{
 "cells": [
  {
   "cell_type": "code",
   "execution_count": 1,
   "id": "092af641-cb3d-45d3-8085-df02968348e7",
   "metadata": {},
   "outputs": [
    {
     "data": {
      "text/plain": [
       "'C:\\\\Users\\\\Omobolanle'"
      ]
     },
     "execution_count": 1,
     "metadata": {},
     "output_type": "execute_result"
    }
   ],
   "source": [
    "pwd"
   ]
  },
  {
   "cell_type": "code",
   "execution_count": 2,
   "id": "db1f4017-e5da-4fbc-b863-a826a4ab0bea",
   "metadata": {},
   "outputs": [],
   "source": [
    "import pandas as pd"
   ]
  },
  {
   "cell_type": "code",
   "execution_count": 3,
   "id": "d265c1c5-5342-4c29-a6e9-44a282ed3401",
   "metadata": {},
   "outputs": [],
   "source": [
    "employees = pd.read_csv('employee.csv')\n",
    "hours = pd.read_csv('hours.csv')"
   ]
  },
  {
   "cell_type": "code",
   "execution_count": 4,
   "id": "ed97e53e-b2c0-4a5a-9094-ba6c352bda11",
   "metadata": {
    "scrolled": true
   },
   "outputs": [
    {
     "data": {
      "text/html": [
       "<div>\n",
       "<style scoped>\n",
       "    .dataframe tbody tr th:only-of-type {\n",
       "        vertical-align: middle;\n",
       "    }\n",
       "\n",
       "    .dataframe tbody tr th {\n",
       "        vertical-align: top;\n",
       "    }\n",
       "\n",
       "    .dataframe thead th {\n",
       "        text-align: right;\n",
       "    }\n",
       "</style>\n",
       "<table border=\"1\" class=\"dataframe\">\n",
       "  <thead>\n",
       "    <tr style=\"text-align: right;\">\n",
       "      <th></th>\n",
       "      <th>EmployeeID</th>\n",
       "      <th>WeekEnding</th>\n",
       "      <th>HoursWorked</th>\n",
       "    </tr>\n",
       "  </thead>\n",
       "  <tbody>\n",
       "    <tr>\n",
       "      <th>0</th>\n",
       "      <td>1.0</td>\n",
       "      <td>8/30/2024</td>\n",
       "      <td>35.0</td>\n",
       "    </tr>\n",
       "    <tr>\n",
       "      <th>1</th>\n",
       "      <td>2.0</td>\n",
       "      <td>8/30/2024</td>\n",
       "      <td>40.0</td>\n",
       "    </tr>\n",
       "    <tr>\n",
       "      <th>2</th>\n",
       "      <td>3.0</td>\n",
       "      <td>8/30/2024</td>\n",
       "      <td>40.0</td>\n",
       "    </tr>\n",
       "    <tr>\n",
       "      <th>3</th>\n",
       "      <td>4.0</td>\n",
       "      <td>8/30/2024</td>\n",
       "      <td>30.0</td>\n",
       "    </tr>\n",
       "    <tr>\n",
       "      <th>4</th>\n",
       "      <td>5.0</td>\n",
       "      <td>8/30/2024</td>\n",
       "      <td>35.0</td>\n",
       "    </tr>\n",
       "  </tbody>\n",
       "</table>\n",
       "</div>"
      ],
      "text/plain": [
       "   EmployeeID WeekEnding   HoursWorked\n",
       "0         1.0   8/30/2024         35.0\n",
       "1         2.0   8/30/2024         40.0\n",
       "2         3.0   8/30/2024         40.0\n",
       "3         4.0   8/30/2024         30.0\n",
       "4         5.0   8/30/2024         35.0"
      ]
     },
     "execution_count": 4,
     "metadata": {},
     "output_type": "execute_result"
    }
   ],
   "source": [
    "hours.head()"
   ]
  },
  {
   "cell_type": "code",
   "execution_count": 16,
   "id": "2fe39216-081f-4865-a8fa-f753df7f3255",
   "metadata": {},
   "outputs": [
    {
     "data": {
      "text/html": [
       "<div>\n",
       "<style scoped>\n",
       "    .dataframe tbody tr th:only-of-type {\n",
       "        vertical-align: middle;\n",
       "    }\n",
       "\n",
       "    .dataframe tbody tr th {\n",
       "        vertical-align: top;\n",
       "    }\n",
       "\n",
       "    .dataframe thead th {\n",
       "        text-align: right;\n",
       "    }\n",
       "</style>\n",
       "<table border=\"1\" class=\"dataframe\">\n",
       "  <thead>\n",
       "    <tr style=\"text-align: right;\">\n",
       "      <th></th>\n",
       "      <th>EmployeeID</th>\n",
       "      <th>Name</th>\n",
       "      <th>HourlyRate</th>\n",
       "    </tr>\n",
       "  </thead>\n",
       "  <tbody>\n",
       "    <tr>\n",
       "      <th>0</th>\n",
       "      <td>1</td>\n",
       "      <td>John Oseme</td>\n",
       "      <td>2,300</td>\n",
       "    </tr>\n",
       "    <tr>\n",
       "      <th>1</th>\n",
       "      <td>2</td>\n",
       "      <td>Abdulahi Bala</td>\n",
       "      <td>700</td>\n",
       "    </tr>\n",
       "    <tr>\n",
       "      <th>2</th>\n",
       "      <td>3</td>\n",
       "      <td>Shekarau Baba</td>\n",
       "      <td>5,500</td>\n",
       "    </tr>\n",
       "    <tr>\n",
       "      <th>3</th>\n",
       "      <td>4</td>\n",
       "      <td>Nnamdi Kehinde</td>\n",
       "      <td>700</td>\n",
       "    </tr>\n",
       "    <tr>\n",
       "      <th>4</th>\n",
       "      <td>5</td>\n",
       "      <td>Shobowale Rabiah</td>\n",
       "      <td>2,300</td>\n",
       "    </tr>\n",
       "  </tbody>\n",
       "</table>\n",
       "</div>"
      ],
      "text/plain": [
       "   EmployeeID              Name HourlyRate\n",
       "0           1        John Oseme      2,300\n",
       "1           2     Abdulahi Bala        700\n",
       "2           3     Shekarau Baba      5,500\n",
       "3           4    Nnamdi Kehinde        700\n",
       "4           5  Shobowale Rabiah      2,300"
      ]
     },
     "execution_count": 16,
     "metadata": {},
     "output_type": "execute_result"
    }
   ],
   "source": [
    "employees.head()"
   ]
  },
  {
   "cell_type": "code",
   "execution_count": 6,
   "id": "89f2a1a3-1e0a-4a7f-a51e-cfa0be7d44ea",
   "metadata": {},
   "outputs": [],
   "source": [
    "payroll_data = pd.merge(hours, employees, on='EmployeeID')"
   ]
  },
  {
   "cell_type": "code",
   "execution_count": 7,
   "id": "07b30888-39e7-4ac0-82b3-5325ccf46692",
   "metadata": {},
   "outputs": [],
   "source": [
    "payroll_data['HoursWorked'] = pd.to_numeric(payroll_data['HoursWorked'], errors='coerce')\n",
    "payroll_data['HourlyRate'] = pd.to_numeric(payroll_data['HourlyRate'], errors='coerce')"
   ]
  },
  {
   "cell_type": "code",
   "execution_count": 8,
   "id": "d8839e2f-c1fe-42f7-8bb7-683e4ef37213",
   "metadata": {},
   "outputs": [],
   "source": [
    "payroll_data = payroll_data.dropna(subset=['HoursWorked', 'HourlyRate'])"
   ]
  },
  {
   "cell_type": "code",
   "execution_count": 9,
   "id": "b0008f32-3282-4bfb-812b-07590f13cf83",
   "metadata": {},
   "outputs": [],
   "source": [
    "payroll_data['TotalPay'] = payroll_data['HoursWorked'] * payroll_data['HourlyRate']"
   ]
  },
  {
   "cell_type": "code",
   "execution_count": 10,
   "id": "c07912ab-43e1-4f47-9f0e-13048d319d6f",
   "metadata": {},
   "outputs": [
    {
     "name": "stdout",
     "output_type": "stream",
     "text": [
      "Index(['EmployeeID', 'WeekEnding ', 'HoursWorked', 'Name', 'HourlyRate',\n",
      "       'TotalPay'],\n",
      "      dtype='object')\n"
     ]
    }
   ],
   "source": [
    "print(payroll_data.columns)"
   ]
  },
  {
   "cell_type": "code",
   "execution_count": 12,
   "id": "77a19eba-00fe-4d1e-951c-bfac00ebd5c1",
   "metadata": {},
   "outputs": [],
   "source": [
    "weekly_payroll=payroll_data.groupby('WeekEnding ').agg({\n",
    "    'TotalPay': 'sum',\n",
    "    'EmployeeID': 'count'\n",
    "}).rename(columns={'EmployeeID': 'NumberOfEmployees'})\n"
   ]
  },
  {
   "cell_type": "code",
   "execution_count": 13,
   "id": "70bde16a-830b-4c4d-a690-a77f2b85d09a",
   "metadata": {},
   "outputs": [],
   "source": [
    "payroll_data.to_csv('detailed_payroll.csv', index=False)"
   ]
  },
  {
   "cell_type": "code",
   "execution_count": 14,
   "id": "56c17a7c-2644-45f1-8004-10defa364445",
   "metadata": {},
   "outputs": [],
   "source": [
    "weekly_payroll.to_csv('weekly_payroll_summary.csv')"
   ]
  },
  {
   "cell_type": "code",
   "execution_count": 15,
   "id": "eb2669a4-9eb8-439f-ac6d-4724cab1c1b6",
   "metadata": {},
   "outputs": [
    {
     "name": "stdout",
     "output_type": "stream",
     "text": [
      "Payroll processing complete. Detailed payroll and weekly summary have been saved.\n"
     ]
    }
   ],
   "source": [
    "print(\"Payroll processing complete. Detailed payroll and weekly summary have been saved.\")"
   ]
  },
  {
   "cell_type": "code",
   "execution_count": null,
   "id": "1dbe2b2e-6494-41f3-ba6c-c47922e7ac23",
   "metadata": {},
   "outputs": [],
   "source": []
  }
 ],
 "metadata": {
  "kernelspec": {
   "display_name": "Python 3 (ipykernel)",
   "language": "python",
   "name": "python3"
  },
  "language_info": {
   "codemirror_mode": {
    "name": "ipython",
    "version": 3
   },
   "file_extension": ".py",
   "mimetype": "text/x-python",
   "name": "python",
   "nbconvert_exporter": "python",
   "pygments_lexer": "ipython3",
   "version": "3.11.7"
  }
 },
 "nbformat": 4,
 "nbformat_minor": 5
}
